{
 "cells": [
  {
   "cell_type": "code",
   "execution_count": null,
   "metadata": {},
   "outputs": [],
   "source": [
    "import requests\n",
    "import pandas as pd\n",
    "import matplotlib.pyplot as plt\n",
    "%matplotlib inline"
   ]
  },
  {
   "cell_type": "code",
   "execution_count": null,
   "metadata": {},
   "outputs": [],
   "source": [
    "# Prepare url information to get data using requests\n",
    "data_gov_url = 'https://data.gov.sg/api/action/datastore_search'\n",
    "resale_flat_prices_resource_id = 'adbbddd3-30e2-445f-a123-29bee150a6fe'"
   ]
  },
  {
   "cell_type": "code",
   "execution_count": null,
   "metadata": {},
   "outputs": [],
   "source": [
    "# Call API to get resale flat prices information\n",
    "url = data_gov_url + \"?\" + \"resource_id=\" + resale_flat_prices_resource_id + \"&limit=1000000000\" \n",
    "res = requests.get(url)\n",
    "records = res.json()['result']['records']"
   ]
  },
  {
   "cell_type": "code",
   "execution_count": null,
   "metadata": {},
   "outputs": [],
   "source": [
    "# Save resale flat prices into a data frame\n",
    "df = pd.DataFrame(records)"
   ]
  },
  {
   "cell_type": "code",
   "execution_count": null,
   "metadata": {},
   "outputs": [],
   "source": [
    "# Save data frame into a csv file\n",
    "df.to_csv('HDB resale flat prices (1990-1999).csv', index=False)"
   ]
  },
  {
   "cell_type": "code",
   "execution_count": null,
   "metadata": {},
   "outputs": [],
   "source": [
    "# Transform data into a data frame for me to visualise\n",
    "df['month'] = pd.to_datetime(df['month'])\n",
    "df['resale_price'] = df['resale_price'].astype(float)\n",
    "\n",
    "mean_resale_price_df = df.groupby(['month']).agg({'resale_price': 'mean'}).reset_index()"
   ]
  },
  {
   "cell_type": "code",
   "execution_count": null,
   "metadata": {},
   "outputs": [],
   "source": [
    "# Create visualisation showing trend of resale prices\n",
    "x = mean_resale_price_df['month']\n",
    "y = mean_resale_price_df['resale_price']\n",
    "\n",
    "figure, ax = plt.subplots()\n",
    "ax.plot(x,y)"
   ]
  },
  {
   "cell_type": "code",
   "execution_count": null,
   "metadata": {},
   "outputs": [],
   "source": [
    "# Use another library to automate statistical analysis and visualisations\n",
    "from pandas_profiling import ProfileReport\n",
    "\n",
    "profile = ProfileReport(df)\n",
    "profile"
   ]
  }
 ],
 "metadata": {
  "interpreter": {
   "hash": "63fd5069d213b44bf678585dea6b12cceca9941eaf7f819626cde1f2670de90d"
  },
  "kernelspec": {
   "display_name": "Python 3.9.7 64-bit",
   "language": "python",
   "name": "python3"
  },
  "language_info": {
   "codemirror_mode": {
    "name": "ipython",
    "version": 3
   },
   "file_extension": ".py",
   "mimetype": "text/x-python",
   "name": "python",
   "nbconvert_exporter": "python",
   "pygments_lexer": "ipython3",
   "version": "3.9.7"
  },
  "orig_nbformat": 4
 },
 "nbformat": 4,
 "nbformat_minor": 2
}
